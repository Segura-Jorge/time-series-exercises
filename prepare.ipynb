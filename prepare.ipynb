{
 "cells": [
  {
   "cell_type": "code",
   "execution_count": 1,
   "id": "c4325f8d-b671-46fd-bed3-ac01f6ea01db",
   "metadata": {
    "tags": []
   },
   "outputs": [],
   "source": [
    "import pandas as pd\n",
    "import numpy as np\n",
    "import math\n",
    "import requests\n",
    "import acquire as a\n",
    "import matplotlib.pyplot as plt\n",
    "import matplotlib.dates as mdates\n",
    "import seaborn as sns\n",
    "from pprint import pprint\n",
    "from vega_datasets import data\n",
    "%matplotlib inline"
   ]
  },
  {
   "cell_type": "code",
   "execution_count": 2,
   "id": "fd87972b-92ed-4337-84e7-9769fc69aa68",
   "metadata": {
    "tags": []
   },
   "outputs": [
    {
     "data": {
      "text/html": [
       "<div>\n",
       "<style scoped>\n",
       "    .dataframe tbody tr th:only-of-type {\n",
       "        vertical-align: middle;\n",
       "    }\n",
       "\n",
       "    .dataframe tbody tr th {\n",
       "        vertical-align: top;\n",
       "    }\n",
       "\n",
       "    .dataframe thead th {\n",
       "        text-align: right;\n",
       "    }\n",
       "</style>\n",
       "<table border=\"1\" class=\"dataframe\">\n",
       "  <thead>\n",
       "    <tr style=\"text-align: right;\">\n",
       "      <th></th>\n",
       "      <th>sale_date</th>\n",
       "      <th>sale_amount</th>\n",
       "      <th>item_brand</th>\n",
       "      <th>item_name</th>\n",
       "      <th>item_price</th>\n",
       "      <th>store_address</th>\n",
       "      <th>store_zipcode</th>\n",
       "    </tr>\n",
       "  </thead>\n",
       "  <tbody>\n",
       "    <tr>\n",
       "      <th>0</th>\n",
       "      <td>2013-01-01</td>\n",
       "      <td>13</td>\n",
       "      <td>Riceland</td>\n",
       "      <td>Riceland American Jazmine Rice</td>\n",
       "      <td>0.84</td>\n",
       "      <td>12125 Alamo Ranch Pkwy</td>\n",
       "      <td>78253</td>\n",
       "    </tr>\n",
       "    <tr>\n",
       "      <th>1</th>\n",
       "      <td>2013-01-02</td>\n",
       "      <td>11</td>\n",
       "      <td>Riceland</td>\n",
       "      <td>Riceland American Jazmine Rice</td>\n",
       "      <td>0.84</td>\n",
       "      <td>12125 Alamo Ranch Pkwy</td>\n",
       "      <td>78253</td>\n",
       "    </tr>\n",
       "    <tr>\n",
       "      <th>2</th>\n",
       "      <td>2013-01-03</td>\n",
       "      <td>14</td>\n",
       "      <td>Riceland</td>\n",
       "      <td>Riceland American Jazmine Rice</td>\n",
       "      <td>0.84</td>\n",
       "      <td>12125 Alamo Ranch Pkwy</td>\n",
       "      <td>78253</td>\n",
       "    </tr>\n",
       "  </tbody>\n",
       "</table>\n",
       "</div>"
      ],
      "text/plain": [
       "    sale_date  sale_amount item_brand                       item_name  \\\n",
       "0  2013-01-01           13   Riceland  Riceland American Jazmine Rice   \n",
       "1  2013-01-02           11   Riceland  Riceland American Jazmine Rice   \n",
       "2  2013-01-03           14   Riceland  Riceland American Jazmine Rice   \n",
       "\n",
       "   item_price           store_address  store_zipcode  \n",
       "0        0.84  12125 Alamo Ranch Pkwy          78253  \n",
       "1        0.84  12125 Alamo Ranch Pkwy          78253  \n",
       "2        0.84  12125 Alamo Ranch Pkwy          78253  "
      ]
     },
     "execution_count": 2,
     "metadata": {},
     "output_type": "execute_result"
    }
   ],
   "source": [
    "df = a.acquire_store()\n",
    "df.head(3)"
   ]
  },
  {
   "cell_type": "markdown",
   "id": "05d4491d-00a3-40f1-98eb-6ef689fe1aa0",
   "metadata": {},
   "source": [
    "## The end result of this exercise should be a file named `prepare.py`.\n",
    "\n",
    "### Using your store items data:\n",
    "\n",
    "### **1. Convert date column to datetime format.**"
   ]
  },
  {
   "cell_type": "code",
   "execution_count": 3,
   "id": "067692a9-2dff-45ec-92b5-856dc2846fbb",
   "metadata": {},
   "outputs": [
    {
     "name": "stdout",
     "output_type": "stream",
     "text": [
      "<class 'pandas.core.frame.DataFrame'>\n",
      "RangeIndex: 913000 entries, 0 to 912999\n",
      "Data columns (total 7 columns):\n",
      " #   Column         Non-Null Count   Dtype  \n",
      "---  ------         --------------   -----  \n",
      " 0   sale_date      913000 non-null  object \n",
      " 1   sale_amount    913000 non-null  int64  \n",
      " 2   item_brand     913000 non-null  object \n",
      " 3   item_name      913000 non-null  object \n",
      " 4   item_price     913000 non-null  float64\n",
      " 5   store_address  913000 non-null  object \n",
      " 6   store_zipcode  913000 non-null  int64  \n",
      "dtypes: float64(1), int64(2), object(4)\n",
      "memory usage: 48.8+ MB\n"
     ]
    }
   ],
   "source": [
    "df.info()"
   ]
  },
  {
   "cell_type": "markdown",
   "id": "83d14e32-01d5-47e2-bd59-bef91f5db7a3",
   "metadata": {
    "tags": []
   },
   "source": [
    "df['sale_date'] = pd.to_datetime(df['sale_date'], infer_datetime_format=True)\n",
    "\n",
    "#now verify that the dtype is what we expect\n",
    "df.info()"
   ]
  },
  {
   "cell_type": "code",
   "execution_count": 4,
   "id": "bf48240d-4e24-4568-80e9-e370c4312704",
   "metadata": {
    "tags": []
   },
   "outputs": [],
   "source": [
    "# instructor's way \n",
    "df.sale_date = df.sale_date.astype('datetime64[ns]')"
   ]
  },
  {
   "cell_type": "markdown",
   "id": "88d98c3d-7939-4c4a-b030-3b29472e3e36",
   "metadata": {},
   "source": [
    "### **2. Plot the distribution of `sale_amount` and `item_price`.**"
   ]
  },
  {
   "cell_type": "code",
   "execution_count": 5,
   "id": "bf5ae621-0296-453c-acb9-08c786a22878",
   "metadata": {},
   "outputs": [
    {
     "data": {
      "image/png": "[encoded data removed]",
      "text/plain": [
       "<Figure size 640x480 with 1 Axes>"
      ]
     },
     "metadata": {},
     "output_type": "display_data"
    }
   ],
   "source": [
    "df.sale_amount.plot()\n",
    "plt.title('Distribution of Sale Amount')\n",
    "plt.ylabel('Sale Amount')\n",
    "plt.show()"
   ]
  },
  {
   "cell_type": "code",
   "execution_count": 6,
   "id": "7ffc44b5-9ca6-47ae-94e4-a8d0f0cf6c49",
   "metadata": {
    "tags": []
   },
   "outputs": [
    {
     "data": {
      "image/png": "[encoded data removed]",
      "text/plain": [
       "<Figure size 640x480 with 1 Axes>"
      ]
     },
     "metadata": {},
     "output_type": "display_data"
    }
   ],
   "source": [
    "sns.histplot(data=df, x='sale_amount');"
   ]
  },
  {
   "cell_type": "code",
   "execution_count": 7,
   "id": "73d85d58-0aa5-4dae-80c8-872c024b128d",
   "metadata": {
    "tags": []
   },
   "outputs": [
    {
     "data": {
      "image/png": "[encoded data removed]",
      "text/plain": [
       "<Figure size 640x480 with 1 Axes>"
      ]
     },
     "metadata": {},
     "output_type": "display_data"
    }
   ],
   "source": [
    "df.item_price.plot()\n",
    "plt.title('Distribution of Item Price')\n",
    "plt.ylabel('Item Price')\n",
    "plt.show()"
   ]
  },
  {
   "cell_type": "code",
   "execution_count": 8,
   "id": "ecf1a50d-be56-454e-b9bc-3b40191ce928",
   "metadata": {
    "tags": []
   },
   "outputs": [
    {
     "data": {
      "image/png": "[encoded data removed]",
      "text/plain": [
       "<Figure size 640x480 with 1 Axes>"
      ]
     },
     "metadata": {},
     "output_type": "display_data"
    }
   ],
   "source": [
    "sns.histplot(data=df, x='item_price');"
   ]
  },
  {
   "cell_type": "markdown",
   "id": "249eb2fa-1b28-4627-b05d-d28d5e5ccef4",
   "metadata": {},
   "source": [
    "### **3. Set the index to be the datetime variable.**"
   ]
  },
  {
   "cell_type": "code",
   "execution_count": 9,
   "id": "b40b873b-4d3b-4e79-a784-c3e5df9ce0bf",
   "metadata": {
    "tags": []
   },
   "outputs": [
    {
     "data": {
      "text/html": [
       "<div>\n",
       "<style scoped>\n",
       "    .dataframe tbody tr th:only-of-type {\n",
       "        vertical-align: middle;\n",
       "    }\n",
       "\n",
       "    .dataframe tbody tr th {\n",
       "        vertical-align: top;\n",
       "    }\n",
       "\n",
       "    .dataframe thead th {\n",
       "        text-align: right;\n",
       "    }\n",
       "</style>\n",
       "<table border=\"1\" class=\"dataframe\">\n",
       "  <thead>\n",
       "    <tr style=\"text-align: right;\">\n",
       "      <th></th>\n",
       "      <th>sale_amount</th>\n",
       "      <th>item_brand</th>\n",
       "      <th>item_name</th>\n",
       "      <th>item_price</th>\n",
       "      <th>store_address</th>\n",
       "      <th>store_zipcode</th>\n",
       "    </tr>\n",
       "    <tr>\n",
       "      <th>sale_date</th>\n",
       "      <th></th>\n",
       "      <th></th>\n",
       "      <th></th>\n",
       "      <th></th>\n",
       "      <th></th>\n",
       "      <th></th>\n",
       "    </tr>\n",
       "  </thead>\n",
       "  <tbody>\n",
       "    <tr>\n",
       "      <th>2013-01-01</th>\n",
       "      <td>13</td>\n",
       "      <td>Riceland</td>\n",
       "      <td>Riceland American Jazmine Rice</td>\n",
       "      <td>0.84</td>\n",
       "      <td>12125 Alamo Ranch Pkwy</td>\n",
       "      <td>78253</td>\n",
       "    </tr>\n",
       "    <tr>\n",
       "      <th>2013-01-01</th>\n",
       "      <td>26</td>\n",
       "      <td>Mueller</td>\n",
       "      <td>Mueller Sport Care Basic Support Level Medium ...</td>\n",
       "      <td>8.40</td>\n",
       "      <td>12018 Perrin Beitel Rd</td>\n",
       "      <td>78217</td>\n",
       "    </tr>\n",
       "    <tr>\n",
       "      <th>2013-01-01</th>\n",
       "      <td>27</td>\n",
       "      <td>Mama Marys</td>\n",
       "      <td>Pizza Sauce</td>\n",
       "      <td>4.65</td>\n",
       "      <td>12018 Perrin Beitel Rd</td>\n",
       "      <td>78217</td>\n",
       "    </tr>\n",
       "    <tr>\n",
       "      <th>2013-01-01</th>\n",
       "      <td>54</td>\n",
       "      <td>Mueller</td>\n",
       "      <td>Mueller Sport Care Basic Support Level Medium ...</td>\n",
       "      <td>8.40</td>\n",
       "      <td>15000 San Pedro Ave</td>\n",
       "      <td>78232</td>\n",
       "    </tr>\n",
       "    <tr>\n",
       "      <th>2013-01-01</th>\n",
       "      <td>35</td>\n",
       "      <td>Mueller</td>\n",
       "      <td>Mueller Sport Care Basic Support Level Medium ...</td>\n",
       "      <td>8.40</td>\n",
       "      <td>735 SW Military Dr</td>\n",
       "      <td>78221</td>\n",
       "    </tr>\n",
       "  </tbody>\n",
       "</table>\n",
       "</div>"
      ],
      "text/plain": [
       "            sale_amount  item_brand  \\\n",
       "sale_date                             \n",
       "2013-01-01           13    Riceland   \n",
       "2013-01-01           26     Mueller   \n",
       "2013-01-01           27  Mama Marys   \n",
       "2013-01-01           54     Mueller   \n",
       "2013-01-01           35     Mueller   \n",
       "\n",
       "                                                    item_name  item_price  \\\n",
       "sale_date                                                                   \n",
       "2013-01-01                     Riceland American Jazmine Rice        0.84   \n",
       "2013-01-01  Mueller Sport Care Basic Support Level Medium ...        8.40   \n",
       "2013-01-01                                        Pizza Sauce        4.65   \n",
       "2013-01-01  Mueller Sport Care Basic Support Level Medium ...        8.40   \n",
       "2013-01-01  Mueller Sport Care Basic Support Level Medium ...        8.40   \n",
       "\n",
       "                     store_address  store_zipcode  \n",
       "sale_date                                          \n",
       "2013-01-01  12125 Alamo Ranch Pkwy          78253  \n",
       "2013-01-01  12018 Perrin Beitel Rd          78217  \n",
       "2013-01-01  12018 Perrin Beitel Rd          78217  \n",
       "2013-01-01     15000 San Pedro Ave          78232  \n",
       "2013-01-01      735 SW Military Dr          78221  "
      ]
     },
     "execution_count": 9,
     "metadata": {},
     "output_type": "execute_result"
    }
   ],
   "source": [
    "#now that the date col is in datetime format, we can set it to our index\n",
    "df = df.set_index('sale_date')\n",
    "#now, we sort the index\n",
    "df = df.sort_index()\n",
    "df.head()"
   ]
  },
  {
   "cell_type": "markdown",
   "id": "1e4d111e-37eb-45b9-9987-06f017d31f29",
   "metadata": {},
   "source": [
    "### **4. Add a 'month' and 'day of week' column to your dataframe.**"
   ]
  },
  {
   "cell_type": "code",
   "execution_count": 10,
   "id": "93eaf449-b091-426f-8570-59063fc9a05b",
   "metadata": {},
   "outputs": [
    {
     "data": {
      "text/html": [
       "<div>\n",
       "<style scoped>\n",
       "    .dataframe tbody tr th:only-of-type {\n",
       "        vertical-align: middle;\n",
       "    }\n",
       "\n",
       "    .dataframe tbody tr th {\n",
       "        vertical-align: top;\n",
       "    }\n",
       "\n",
       "    .dataframe thead th {\n",
       "        text-align: right;\n",
       "    }\n",
       "</style>\n",
       "<table border=\"1\" class=\"dataframe\">\n",
       "  <thead>\n",
       "    <tr style=\"text-align: right;\">\n",
       "      <th></th>\n",
       "      <th>sale_amount</th>\n",
       "      <th>item_brand</th>\n",
       "      <th>item_name</th>\n",
       "      <th>item_price</th>\n",
       "      <th>store_address</th>\n",
       "      <th>store_zipcode</th>\n",
       "      <th>month</th>\n",
       "      <th>day_of_week</th>\n",
       "    </tr>\n",
       "    <tr>\n",
       "      <th>sale_date</th>\n",
       "      <th></th>\n",
       "      <th></th>\n",
       "      <th></th>\n",
       "      <th></th>\n",
       "      <th></th>\n",
       "      <th></th>\n",
       "      <th></th>\n",
       "      <th></th>\n",
       "    </tr>\n",
       "  </thead>\n",
       "  <tbody>\n",
       "    <tr>\n",
       "      <th>2015-09-07</th>\n",
       "      <td>42</td>\n",
       "      <td>Natures Way</td>\n",
       "      <td>Natures Way Forskohlii - 60 Ct</td>\n",
       "      <td>5.19</td>\n",
       "      <td>1520 Austin Hwy</td>\n",
       "      <td>78218</td>\n",
       "      <td>September</td>\n",
       "      <td>Monday</td>\n",
       "    </tr>\n",
       "    <tr>\n",
       "      <th>2017-02-25</th>\n",
       "      <td>76</td>\n",
       "      <td>Usda Produce</td>\n",
       "      <td>Guava</td>\n",
       "      <td>7.52</td>\n",
       "      <td>12125 Alamo Ranch Pkwy</td>\n",
       "      <td>78253</td>\n",
       "      <td>February</td>\n",
       "      <td>Saturday</td>\n",
       "    </tr>\n",
       "  </tbody>\n",
       "</table>\n",
       "</div>"
      ],
      "text/plain": [
       "            sale_amount    item_brand                       item_name  \\\n",
       "sale_date                                                               \n",
       "2015-09-07           42   Natures Way  Natures Way Forskohlii - 60 Ct   \n",
       "2017-02-25           76  Usda Produce                           Guava   \n",
       "\n",
       "            item_price           store_address  store_zipcode      month  \\\n",
       "sale_date                                                                  \n",
       "2015-09-07        5.19         1520 Austin Hwy          78218  September   \n",
       "2017-02-25        7.52  12125 Alamo Ranch Pkwy          78253   February   \n",
       "\n",
       "           day_of_week  \n",
       "sale_date               \n",
       "2015-09-07      Monday  \n",
       "2017-02-25    Saturday  "
      ]
     },
     "execution_count": 10,
     "metadata": {},
     "output_type": "execute_result"
    }
   ],
   "source": [
    "df['month']= df.index.month_name()\n",
    "df['day_of_week'] = df.index.day_name()\n",
    "df.sample(2)"
   ]
  },
  {
   "cell_type": "markdown",
   "id": "64aa3d55-3c21-456d-9ddb-b34cb9a50dd9",
   "metadata": {},
   "source": [
    "### **5. Add a column to your dataframe, `sales_total`, which is a derived from `sale_amount` (total items) and `item_price`.**"
   ]
  },
  {
   "cell_type": "code",
   "execution_count": 11,
   "id": "a5fa8b25-e3a4-4c05-9b35-4357fa497c1a",
   "metadata": {},
   "outputs": [
    {
     "data": {
      "text/html": [
       "<div>\n",
       "<style scoped>\n",
       "    .dataframe tbody tr th:only-of-type {\n",
       "        vertical-align: middle;\n",
       "    }\n",
       "\n",
       "    .dataframe tbody tr th {\n",
       "        vertical-align: top;\n",
       "    }\n",
       "\n",
       "    .dataframe thead th {\n",
       "        text-align: right;\n",
       "    }\n",
       "</style>\n",
       "<table border=\"1\" class=\"dataframe\">\n",
       "  <thead>\n",
       "    <tr style=\"text-align: right;\">\n",
       "      <th></th>\n",
       "      <th>sale_amount</th>\n",
       "      <th>item_brand</th>\n",
       "      <th>item_name</th>\n",
       "      <th>item_price</th>\n",
       "      <th>store_address</th>\n",
       "      <th>store_zipcode</th>\n",
       "      <th>month</th>\n",
       "      <th>day_of_week</th>\n",
       "      <th>sales_total</th>\n",
       "    </tr>\n",
       "    <tr>\n",
       "      <th>sale_date</th>\n",
       "      <th></th>\n",
       "      <th></th>\n",
       "      <th></th>\n",
       "      <th></th>\n",
       "      <th></th>\n",
       "      <th></th>\n",
       "      <th></th>\n",
       "      <th></th>\n",
       "      <th></th>\n",
       "    </tr>\n",
       "  </thead>\n",
       "  <tbody>\n",
       "    <tr>\n",
       "      <th>2013-07-17</th>\n",
       "      <td>94</td>\n",
       "      <td>Hood</td>\n",
       "      <td>Hood Latte Iced Coffee Drink Vanilla Latte</td>\n",
       "      <td>2.43</td>\n",
       "      <td>15000 San Pedro Ave</td>\n",
       "      <td>78232</td>\n",
       "      <td>July</td>\n",
       "      <td>Wednesday</td>\n",
       "      <td>228.42</td>\n",
       "    </tr>\n",
       "    <tr>\n",
       "      <th>2014-10-09</th>\n",
       "      <td>35</td>\n",
       "      <td>Careone</td>\n",
       "      <td>Careone Family Comb Set - 8 Ct</td>\n",
       "      <td>0.74</td>\n",
       "      <td>12125 Alamo Ranch Pkwy</td>\n",
       "      <td>78253</td>\n",
       "      <td>October</td>\n",
       "      <td>Thursday</td>\n",
       "      <td>25.90</td>\n",
       "    </tr>\n",
       "  </tbody>\n",
       "</table>\n",
       "</div>"
      ],
      "text/plain": [
       "            sale_amount item_brand  \\\n",
       "sale_date                            \n",
       "2013-07-17           94       Hood   \n",
       "2014-10-09           35    Careone   \n",
       "\n",
       "                                             item_name  item_price  \\\n",
       "sale_date                                                            \n",
       "2013-07-17  Hood Latte Iced Coffee Drink Vanilla Latte        2.43   \n",
       "2014-10-09              Careone Family Comb Set - 8 Ct        0.74   \n",
       "\n",
       "                     store_address  store_zipcode    month day_of_week  \\\n",
       "sale_date                                                                \n",
       "2013-07-17     15000 San Pedro Ave          78232     July   Wednesday   \n",
       "2014-10-09  12125 Alamo Ranch Pkwy          78253  October    Thursday   \n",
       "\n",
       "            sales_total  \n",
       "sale_date                \n",
       "2013-07-17       228.42  \n",
       "2014-10-09        25.90  "
      ]
     },
     "execution_count": 11,
     "metadata": {},
     "output_type": "execute_result"
    }
   ],
   "source": [
    "df['sales_total'] = df['sale_amount'] *df['item_price']\n",
    "df.sample(2)"
   ]
  },
  {
   "cell_type": "markdown",
   "id": "038a1c17-29e0-4e02-a1bd-7b42d1052e81",
   "metadata": {},
   "source": [
    "### **6. Make sure all the work that you have done above is reproducible. That is, you should put the code above into separate functions and be able to re-run the functions and get the same results.**"
   ]
  },
  {
   "cell_type": "code",
   "execution_count": 12,
   "id": "4f60315c-44cf-4698-93a2-71ba379f2183",
   "metadata": {},
   "outputs": [],
   "source": [
    "def convert_to_datetime(df):\n",
    "    '''\n",
    "    This function takes in a dataframe\n",
    "    and converts the sales_date column to a datetime\n",
    "    '''\n",
    "    df.sale_date = pd.to_datetime(df.sale_date, infer_datetime_format=True)\n",
    "    return df"
   ]
  },
  {
   "cell_type": "markdown",
   "id": "8a61a8bd-0dfe-404a-94a4-88e9ee9cea38",
   "metadata": {
    "tags": []
   },
   "source": [
    "### Using the OPS data acquired in the Acquire exercises `opsd_germany_daily.csv`, complete the following:\n",
    "\n",
    "### **1. Convert date column to datetime format.**\n"
   ]
  },
  {
   "cell_type": "code",
   "execution_count": 17,
   "id": "8909cf06-0f0d-44ab-a7cd-60479a97c507",
   "metadata": {},
   "outputs": [
    {
     "data": {
      "text/html": [
       "<div>\n",
       "<style scoped>\n",
       "    .dataframe tbody tr th:only-of-type {\n",
       "        vertical-align: middle;\n",
       "    }\n",
       "\n",
       "    .dataframe tbody tr th {\n",
       "        vertical-align: top;\n",
       "    }\n",
       "\n",
       "    .dataframe thead th {\n",
       "        text-align: right;\n",
       "    }\n",
       "</style>\n",
       "<table border=\"1\" class=\"dataframe\">\n",
       "  <thead>\n",
       "    <tr style=\"text-align: right;\">\n",
       "      <th></th>\n",
       "      <th>Date</th>\n",
       "      <th>Consumption</th>\n",
       "      <th>Wind</th>\n",
       "      <th>Solar</th>\n",
       "      <th>Wind+Solar</th>\n",
       "    </tr>\n",
       "  </thead>\n",
       "  <tbody>\n",
       "    <tr>\n",
       "      <th>0</th>\n",
       "      <td>2006-01-01</td>\n",
       "      <td>1069.184</td>\n",
       "      <td>NaN</td>\n",
       "      <td>NaN</td>\n",
       "      <td>NaN</td>\n",
       "    </tr>\n",
       "    <tr>\n",
       "      <th>1</th>\n",
       "      <td>2006-01-02</td>\n",
       "      <td>1380.521</td>\n",
       "      <td>NaN</td>\n",
       "      <td>NaN</td>\n",
       "      <td>NaN</td>\n",
       "    </tr>\n",
       "    <tr>\n",
       "      <th>2</th>\n",
       "      <td>2006-01-03</td>\n",
       "      <td>1442.533</td>\n",
       "      <td>NaN</td>\n",
       "      <td>NaN</td>\n",
       "      <td>NaN</td>\n",
       "    </tr>\n",
       "  </tbody>\n",
       "</table>\n",
       "</div>"
      ],
      "text/plain": [
       "         Date  Consumption  Wind  Solar  Wind+Solar\n",
       "0  2006-01-01     1069.184   NaN    NaN         NaN\n",
       "1  2006-01-02     1380.521   NaN    NaN         NaN\n",
       "2  2006-01-03     1442.533   NaN    NaN         NaN"
      ]
     },
     "execution_count": 17,
     "metadata": {},
     "output_type": "execute_result"
    }
   ],
   "source": [
    "germany = a.get_germany_data()\n",
    "germany.head(3)"
   ]
  },
  {
   "cell_type": "code",
   "execution_count": 18,
   "id": "37ae4bf2-9cbd-4107-abcc-8cd17cab20d3",
   "metadata": {
    "tags": []
   },
   "outputs": [
    {
     "name": "stdout",
     "output_type": "stream",
     "text": [
      "<class 'pandas.core.frame.DataFrame'>\n",
      "Int64Index: 4383 entries, 0 to 4382\n",
      "Data columns (total 5 columns):\n",
      " #   Column       Non-Null Count  Dtype  \n",
      "---  ------       --------------  -----  \n",
      " 0   Date         4383 non-null   object \n",
      " 1   Consumption  4383 non-null   float64\n",
      " 2   Wind         2920 non-null   float64\n",
      " 3   Solar        2188 non-null   float64\n",
      " 4   Wind+Solar   2187 non-null   float64\n",
      "dtypes: float64(4), object(1)\n",
      "memory usage: 205.5+ KB\n"
     ]
    }
   ],
   "source": [
    "germany.info()"
   ]
  },
  {
   "cell_type": "code",
   "execution_count": 19,
   "id": "edb31578-37fe-400f-b8ff-529523d1d08e",
   "metadata": {
    "tags": []
   },
   "outputs": [
    {
     "name": "stdout",
     "output_type": "stream",
     "text": [
      "<class 'pandas.core.frame.DataFrame'>\n",
      "Int64Index: 4383 entries, 0 to 4382\n",
      "Data columns (total 5 columns):\n",
      " #   Column       Non-Null Count  Dtype         \n",
      "---  ------       --------------  -----         \n",
      " 0   Date         4383 non-null   datetime64[ns]\n",
      " 1   Consumption  4383 non-null   float64       \n",
      " 2   Wind         2920 non-null   float64       \n",
      " 3   Solar        2188 non-null   float64       \n",
      " 4   Wind+Solar   2187 non-null   float64       \n",
      "dtypes: datetime64[ns](1), float64(4)\n",
      "memory usage: 205.5 KB\n"
     ]
    }
   ],
   "source": [
    "germany.Date = germany.Date.astype('datetime64[ns]')\n",
    "germany.info()"
   ]
  },
  {
   "cell_type": "markdown",
   "id": "7948fc29-aef4-4e39-bc2c-bdc29c67cce1",
   "metadata": {},
   "source": [
    "### **2. Plot the distribution of each of your variables.**"
   ]
  },
  {
   "cell_type": "code",
   "execution_count": 21,
   "id": "860bce2e-2c31-48a5-b3b8-24def8604fa7",
   "metadata": {},
   "outputs": [
    {
     "data": {
      "image/png": "[encoded data removed]",
      "text/plain": [
       "<Figure size 640x480 with 1 Axes>"
      ]
     },
     "metadata": {},
     "output_type": "display_data"
    },
    {
     "data": {
      "image/png": "[encoded data removed]",
      "text/plain": [
       "<Figure size 640x480 with 1 Axes>"
      ]
     },
     "metadata": {},
     "output_type": "display_data"
    },
    {
     "data": {
      "image/png": "[encoded data removed]",
      "text/plain": [
       "<Figure size 640x480 with 1 Axes>"
      ]
     },
     "metadata": {},
     "output_type": "display_data"
    },
    {
     "data": {
      "image/png": "[encoded data removed]",
      "text/plain": [
       "<Figure size 640x480 with 1 Axes>"
      ]
     },
     "metadata": {},
     "output_type": "display_data"
    }
   ],
   "source": [
    "#visualize distribution using sns\n",
    "for col in list(germany.columns.drop('Date')):\n",
    "    plt.figure()\n",
    "    sns.histplot(germany[col])\n",
    "    plt.title('Distribution of {}'.format(col))"
   ]
  },
  {
   "cell_type": "markdown",
   "id": "adc6ff97-1cf8-4b9b-802a-1b30730a4ec9",
   "metadata": {},
   "source": [
    "### **3. Set the index to be the datetime variable.**"
   ]
  },
  {
   "cell_type": "code",
   "execution_count": 23,
   "id": "eb1d4b74-0b9f-4b19-9a89-c6aff9ed594f",
   "metadata": {},
   "outputs": [
    {
     "data": {
      "text/plain": [
       "pandas.core.indexes.datetimes.DatetimeIndex"
      ]
     },
     "execution_count": 23,
     "metadata": {},
     "output_type": "execute_result"
    }
   ],
   "source": [
    "germany = germany.set_index('Date').sort_index()\n",
    "#recheck index\n",
    "type(germany.index)"
   ]
  },
  {
   "cell_type": "code",
   "execution_count": 24,
   "id": "c83a1113-74b3-46fb-bf84-84dca5e243a8",
   "metadata": {
    "tags": []
   },
   "outputs": [
    {
     "data": {
      "text/html": [
       "<div>\n",
       "<style scoped>\n",
       "    .dataframe tbody tr th:only-of-type {\n",
       "        vertical-align: middle;\n",
       "    }\n",
       "\n",
       "    .dataframe tbody tr th {\n",
       "        vertical-align: top;\n",
       "    }\n",
       "\n",
       "    .dataframe thead th {\n",
       "        text-align: right;\n",
       "    }\n",
       "</style>\n",
       "<table border=\"1\" class=\"dataframe\">\n",
       "  <thead>\n",
       "    <tr style=\"text-align: right;\">\n",
       "      <th></th>\n",
       "      <th>Consumption</th>\n",
       "      <th>Wind</th>\n",
       "      <th>Solar</th>\n",
       "      <th>Wind+Solar</th>\n",
       "    </tr>\n",
       "    <tr>\n",
       "      <th>Date</th>\n",
       "      <th></th>\n",
       "      <th></th>\n",
       "      <th></th>\n",
       "      <th></th>\n",
       "    </tr>\n",
       "  </thead>\n",
       "  <tbody>\n",
       "    <tr>\n",
       "      <th>2006-01-01</th>\n",
       "      <td>1069.184</td>\n",
       "      <td>NaN</td>\n",
       "      <td>NaN</td>\n",
       "      <td>NaN</td>\n",
       "    </tr>\n",
       "    <tr>\n",
       "      <th>2006-01-02</th>\n",
       "      <td>1380.521</td>\n",
       "      <td>NaN</td>\n",
       "      <td>NaN</td>\n",
       "      <td>NaN</td>\n",
       "    </tr>\n",
       "    <tr>\n",
       "      <th>2006-01-03</th>\n",
       "      <td>1442.533</td>\n",
       "      <td>NaN</td>\n",
       "      <td>NaN</td>\n",
       "      <td>NaN</td>\n",
       "    </tr>\n",
       "  </tbody>\n",
       "</table>\n",
       "</div>"
      ],
      "text/plain": [
       "            Consumption  Wind  Solar  Wind+Solar\n",
       "Date                                            \n",
       "2006-01-01     1069.184   NaN    NaN         NaN\n",
       "2006-01-02     1380.521   NaN    NaN         NaN\n",
       "2006-01-03     1442.533   NaN    NaN         NaN"
      ]
     },
     "execution_count": 24,
     "metadata": {},
     "output_type": "execute_result"
    }
   ],
   "source": [
    "germany.head(3)"
   ]
  },
  {
   "cell_type": "markdown",
   "id": "830defd4-d49b-4b3e-b8f3-4a76bde8e499",
   "metadata": {},
   "source": [
    "### **4. Add a month and a year column to your dataframe.**"
   ]
  },
  {
   "cell_type": "code",
   "execution_count": 25,
   "id": "2ac2d900-7ea8-4ef3-bee2-9e68cfb052d5",
   "metadata": {},
   "outputs": [
    {
     "data": {
      "text/html": [
       "<div>\n",
       "<style scoped>\n",
       "    .dataframe tbody tr th:only-of-type {\n",
       "        vertical-align: middle;\n",
       "    }\n",
       "\n",
       "    .dataframe tbody tr th {\n",
       "        vertical-align: top;\n",
       "    }\n",
       "\n",
       "    .dataframe thead th {\n",
       "        text-align: right;\n",
       "    }\n",
       "</style>\n",
       "<table border=\"1\" class=\"dataframe\">\n",
       "  <thead>\n",
       "    <tr style=\"text-align: right;\">\n",
       "      <th></th>\n",
       "      <th>Consumption</th>\n",
       "      <th>Wind</th>\n",
       "      <th>Solar</th>\n",
       "      <th>Wind+Solar</th>\n",
       "      <th>month</th>\n",
       "      <th>year</th>\n",
       "    </tr>\n",
       "    <tr>\n",
       "      <th>Date</th>\n",
       "      <th></th>\n",
       "      <th></th>\n",
       "      <th></th>\n",
       "      <th></th>\n",
       "      <th></th>\n",
       "      <th></th>\n",
       "    </tr>\n",
       "  </thead>\n",
       "  <tbody>\n",
       "    <tr>\n",
       "      <th>2006-01-01</th>\n",
       "      <td>1069.184</td>\n",
       "      <td>NaN</td>\n",
       "      <td>NaN</td>\n",
       "      <td>NaN</td>\n",
       "      <td>January</td>\n",
       "      <td>2006</td>\n",
       "    </tr>\n",
       "    <tr>\n",
       "      <th>2006-01-02</th>\n",
       "      <td>1380.521</td>\n",
       "      <td>NaN</td>\n",
       "      <td>NaN</td>\n",
       "      <td>NaN</td>\n",
       "      <td>January</td>\n",
       "      <td>2006</td>\n",
       "    </tr>\n",
       "    <tr>\n",
       "      <th>2006-01-03</th>\n",
       "      <td>1442.533</td>\n",
       "      <td>NaN</td>\n",
       "      <td>NaN</td>\n",
       "      <td>NaN</td>\n",
       "      <td>January</td>\n",
       "      <td>2006</td>\n",
       "    </tr>\n",
       "  </tbody>\n",
       "</table>\n",
       "</div>"
      ],
      "text/plain": [
       "            Consumption  Wind  Solar  Wind+Solar    month  year\n",
       "Date                                                           \n",
       "2006-01-01     1069.184   NaN    NaN         NaN  January  2006\n",
       "2006-01-02     1380.521   NaN    NaN         NaN  January  2006\n",
       "2006-01-03     1442.533   NaN    NaN         NaN  January  2006"
      ]
     },
     "execution_count": 25,
     "metadata": {},
     "output_type": "execute_result"
    }
   ],
   "source": [
    "#create new column for month\n",
    "germany['month'] = germany.index.month_name()\n",
    "\n",
    "#create new column for year\n",
    "germany['year'] = germany.index.year\n",
    "#take a look\n",
    "germany.head(3)"
   ]
  },
  {
   "cell_type": "markdown",
   "id": "3bfae2c1-186f-4832-8423-924e49004b0a",
   "metadata": {},
   "source": [
    "### **5. Fill any missing values.**"
   ]
  },
  {
   "cell_type": "code",
   "execution_count": 26,
   "id": "259bb908-015d-486f-8848-2a82a0424406",
   "metadata": {},
   "outputs": [
    {
     "data": {
      "text/plain": [
       "Consumption       0\n",
       "Wind           1463\n",
       "Solar          2195\n",
       "Wind+Solar     2196\n",
       "month             0\n",
       "year              0\n",
       "dtype: int64"
      ]
     },
     "execution_count": 26,
     "metadata": {},
     "output_type": "execute_result"
    }
   ],
   "source": [
    "#check for nulls\n",
    "germany.isnull().sum()"
   ]
  },
  {
   "cell_type": "code",
   "execution_count": 28,
   "id": "cd5efa10-1a9e-4177-9734-f145de0f0307",
   "metadata": {
    "tags": []
   },
   "outputs": [
    {
     "data": {
      "text/html": [
       "<div>\n",
       "<style scoped>\n",
       "    .dataframe tbody tr th:only-of-type {\n",
       "        vertical-align: middle;\n",
       "    }\n",
       "\n",
       "    .dataframe tbody tr th {\n",
       "        vertical-align: top;\n",
       "    }\n",
       "\n",
       "    .dataframe thead th {\n",
       "        text-align: right;\n",
       "    }\n",
       "</style>\n",
       "<table border=\"1\" class=\"dataframe\">\n",
       "  <thead>\n",
       "    <tr style=\"text-align: right;\">\n",
       "      <th></th>\n",
       "      <th>Consumption</th>\n",
       "      <th>Wind</th>\n",
       "      <th>Solar</th>\n",
       "      <th>Wind+Solar</th>\n",
       "      <th>month</th>\n",
       "      <th>year</th>\n",
       "    </tr>\n",
       "    <tr>\n",
       "      <th>Date</th>\n",
       "      <th></th>\n",
       "      <th></th>\n",
       "      <th></th>\n",
       "      <th></th>\n",
       "      <th></th>\n",
       "      <th></th>\n",
       "    </tr>\n",
       "  </thead>\n",
       "  <tbody>\n",
       "    <tr>\n",
       "      <th>2006-01-01</th>\n",
       "      <td>1069.184</td>\n",
       "      <td>0.0</td>\n",
       "      <td>0.0</td>\n",
       "      <td>0.0</td>\n",
       "      <td>January</td>\n",
       "      <td>2006</td>\n",
       "    </tr>\n",
       "    <tr>\n",
       "      <th>2006-01-02</th>\n",
       "      <td>1380.521</td>\n",
       "      <td>0.0</td>\n",
       "      <td>0.0</td>\n",
       "      <td>0.0</td>\n",
       "      <td>January</td>\n",
       "      <td>2006</td>\n",
       "    </tr>\n",
       "    <tr>\n",
       "      <th>2006-01-03</th>\n",
       "      <td>1442.533</td>\n",
       "      <td>0.0</td>\n",
       "      <td>0.0</td>\n",
       "      <td>0.0</td>\n",
       "      <td>January</td>\n",
       "      <td>2006</td>\n",
       "    </tr>\n",
       "  </tbody>\n",
       "</table>\n",
       "</div>"
      ],
      "text/plain": [
       "            Consumption  Wind  Solar  Wind+Solar    month  year\n",
       "Date                                                           \n",
       "2006-01-01     1069.184   0.0    0.0         0.0  January  2006\n",
       "2006-01-02     1380.521   0.0    0.0         0.0  January  2006\n",
       "2006-01-03     1442.533   0.0    0.0         0.0  January  2006"
      ]
     },
     "execution_count": 28,
     "metadata": {},
     "output_type": "execute_result"
    }
   ],
   "source": [
    "#fill nulls with 0\n",
    "germany.fillna(0, inplace = True)\n",
    "\n",
    "#take a look\n",
    "germany.head(3)"
   ]
  },
  {
   "cell_type": "markdown",
   "id": "980a47ec-40ac-4e2f-9bd5-23146efda9fa",
   "metadata": {},
   "source": [
    "### **6. Make sure all the work that you have done above is reproducible. That is, you should put the code above into separate functions and be able to re-run the functions and get the same results.**"
   ]
  },
  {
   "cell_type": "code",
   "execution_count": 29,
   "id": "46215e72-7bf6-4a0e-89a0-34ba1b4a8eb1",
   "metadata": {},
   "outputs": [],
   "source": [
    "def plot_distributions(df):\n",
    "    for col in list(df.columns.drop('Date')):\n",
    "        plt.figure()\n",
    "        sns.histplot(df[col])\n",
    "        plt.title('Distribution of {}'.format(col))"
   ]
  }
 ],
 "metadata": {
  "kernelspec": {
   "display_name": "Python 3 (ipykernel)",
   "language": "python",
   "name": "python3"
  },
  "language_info": {
   "codemirror_mode": {
    "name": "ipython",
    "version": 3
   },
   "file_extension": ".py",
   "mimetype": "text/x-python",
   "name": "python",
   "nbconvert_exporter": "python",
   "pygments_lexer": "ipython3",
   "version": "3.11.4"
  }
 },
 "nbformat": 4,
 "nbformat_minor": 5
}
