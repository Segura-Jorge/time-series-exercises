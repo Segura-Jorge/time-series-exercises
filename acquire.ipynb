{
 "cells": [
  {
   "cell_type": "markdown",
   "id": "0082004f-7317-4cc3-a1a8-1027b110bead",
   "metadata": {},
   "source": [
    "The end result of this exercise should be a file named acquire.py.\n",
    "\n"
   ]
  },
  {
   "cell_type": "code",
   "execution_count": null,
   "id": "be0be471-821e-41e4-b156-36c8bef17beb",
   "metadata": {},
   "outputs": [],
   "source": []
  },
  {
   "cell_type": "markdown",
   "id": "6092b035-38e6-4d0d-a50f-45f3ddfd2c07",
   "metadata": {},
   "source": [
    "1. Using the code from the lesson as a guide and the REST API from https://swapi.dev/ as we did in the lesson, create a dataframe named people that has all of the data for people."
   ]
  },
  {
   "cell_type": "markdown",
   "id": "b97476d4-2dc9-4188-a95d-ba6e1ad0548c",
   "metadata": {},
   "source": [
    "2. Do the same thing, but for planets.\n"
   ]
  },
  {
   "cell_type": "markdown",
   "id": "040e8c86-f31e-4b47-ac66-f2961b9bce26",
   "metadata": {},
   "source": [
    "3. Extract the data for starships.\n"
   ]
  },
  {
   "cell_type": "markdown",
   "id": "2952756c-1acf-44d9-aa02-1571d611a1bb",
   "metadata": {},
   "source": [
    "4. Save the data in your files to local csv files so that it will be faster to access in the future.\n"
   ]
  },
  {
   "cell_type": "markdown",
   "id": "4a514288-697d-459c-b68d-f50ab62c1f4c",
   "metadata": {},
   "source": [
    "5. Combine the data from your three separate dataframes into one large dataframe.\n",
    "\n"
   ]
  },
  {
   "cell_type": "markdown",
   "id": "f2afeebf-481e-4c36-8d21-b308e51a9e7a",
   "metadata": {},
   "source": [
    "6. Acquire the Open Power Systems Data for Germany, which has been rapidly expanding its renewable energy production in recent years. The data set includes country-wide totals of electricity consumption, wind power production, and solar power production for 2006-2017. You can get the data here: https://raw.githubusercontent.com/jenfly/opsd/master/opsd_germany_daily.csv"
   ]
  },
  {
   "cell_type": "markdown",
   "id": "4565c69f-211b-4c24-b1a6-359ea21adbc5",
   "metadata": {},
   "source": [
    "7. Make sure all the work that you have done above is reproducible. That is, you should put the code above into separate functions in the acquire.py file and be able to re-run the functions and get the same data."
   ]
  },
  {
   "cell_type": "markdown",
   "id": "f1d604e2-5a65-4cf7-b88e-fe82585ada61",
   "metadata": {},
   "source": []
  },
  {
   "cell_type": "markdown",
   "id": "eb4171b2-46d5-452e-8eea-4f3f8ae21333",
   "metadata": {},
   "source": []
  },
  {
   "cell_type": "markdown",
   "id": "5fcb2c2a-f679-4b0a-ac91-f1af186b1d49",
   "metadata": {},
   "source": []
  }
 ],
 "metadata": {
  "kernelspec": {
   "display_name": "Python 3 (ipykernel)",
   "language": "python",
   "name": "python3"
  },
  "language_info": {
   "codemirror_mode": {
    "name": "ipython",
    "version": 3
   },
   "file_extension": ".py",
   "mimetype": "text/x-python",
   "name": "python",
   "nbconvert_exporter": "python",
   "pygments_lexer": "ipython3",
   "version": "3.11.4"
  }
 },
 "nbformat": 4,
 "nbformat_minor": 5
}
